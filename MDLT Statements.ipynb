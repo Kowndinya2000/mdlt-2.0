{
 "cells": [
  {
   "cell_type": "code",
   "execution_count": 2,
   "id": "58c21e44-9cb9-4539-a18e-f01485ffab3d",
   "metadata": {},
   "outputs": [
    {
     "name": "stdout",
     "output_type": "stream",
     "text": [
      "Environment:\n",
      "\tPython: 3.9.12\n",
      "\tPyTorch: 1.7.1\n",
      "\tTorchvision: 0.8.2\n",
      "\tCUDA: 10.2\n",
      "\tCUDNN: 7605\n",
      "\tNumPy: 1.21.4\n",
      "\tPIL: 9.0.1\n",
      "Args:\n",
      "\talgorithm: BoDA\n",
      "\tbest_val_acc: 0\n",
      "\tcheckpoint_freq: None\n",
      "\tdata_dir: DATASETS\n",
      "\tdataset: ImbalancedColoredMNIST\n",
      "\thparams: None\n",
      "\thparams_seed: 0\n",
      "\timb_factor: 0.1\n",
      "\timb_type: eeee\n",
      "\toutput_dir: digits_boda_output_dir/digits_boda_folder/ImbalancedColoredMNIST_eeee_0.1_BoDA_hparams0_seed0\n",
      "\toutput_folder_name: digits_boda_folder\n",
      "\tpretrained: \n",
      "\tresume: \n",
      "\tseed: 0\n",
      "\tselected_envs: None\n",
      "\tskip_model_save: False\n",
      "\tstage1_algo: ERM\n",
      "\tstage1_folder: vanilla\n",
      "\tstage2: False\n",
      "\tsteps: None\n",
      "\tstore_name: ImbalancedColoredMNIST_eeee_0.1_BoDA_hparams0_seed0\n",
      "HParams:\n",
      "\tbatch_size: 64\n",
      "\tboda_start_step: 500\n",
      "\tboda_weight: 0.1\n",
      "\tclass_balanced: False\n",
      "\tdata_augmentation: True\n",
      "\tfeat_update_freq: 120\n",
      "\timb_factor: 0.1\n",
      "\timb_type_per_env: ['exp', 'exp', 'exp', 'exp']\n",
      "\tlr: 0.001\n",
      "\tmacro_weight: 1.0\n",
      "\tmomentum: 0.2\n",
      "\tnonlinear_classifier: False\n",
      "\tnu: 0.5\n",
      "\trand_seed: 0\n",
      "\tresnet101: False\n",
      "\tresnet152: True\n",
      "\tresnet152_dropout: 0.5\n",
      "\tresnet18: False\n",
      "\tresnet_dropout: 0.0\n",
      "\ttemperature: 1.0\n",
      "\tweight_decay: 0.0\n",
      "/common/home/at1341/.local/lib/python3.9/site-packages/torch/cuda/__init__.py:52: UserWarning: CUDA initialization: Found no NVIDIA driver on your system. Please check that you have an NVIDIA GPU and installed a driver from http://www.nvidia.com/Download/index.aspx (Triggered internally at  /pytorch/c10/cuda/CUDAFunctions.cpp:100.)\n",
      "  return torch._C._cuda_getDeviceCount() > 0\n",
      "Dataset:\n",
      "\tenv0:\t4058\t|\t4894\t|\t2500\n",
      "\tenv1:\t4084\t|\t4845\t|\t2500\n",
      "\tenv2:\t4056\t|\t4847\t|\t2500\n",
      "\tenv3:\t4084\t|\t4864\t|\t2500\n",
      "args.stage2: False\n",
      "Traceback (most recent call last):\n",
      "  File \"/usr/lib/anaconda3/lib/python3.9/runpy.py\", line 197, in _run_module_as_main\n",
      "    return _run_code(code, main_globals, None,\n",
      "  File \"/usr/lib/anaconda3/lib/python3.9/runpy.py\", line 87, in _run_code\n",
      "    exec(code, run_globals)\n",
      "  File \"/common/home/at1341/Desktop/MDLT/mdlt/train.py\", line 366, in <module>\n",
      "    main()\n",
      "  File \"/common/home/at1341/Desktop/MDLT/mdlt/train.py\", line 303, in main\n",
      "    results['mem_gb'] = torch.cuda.max_memory_allocated() / (1024.*1024.*1024.)\n",
      "  File \"/common/home/at1341/.local/lib/python3.9/site-packages/torch/cuda/memory.py\", line 301, in max_memory_allocated\n",
      "    return memory_stats(device=device)[\"allocated_bytes.all.peak\"]\n",
      "  File \"/common/home/at1341/.local/lib/python3.9/site-packages/torch/cuda/memory.py\", line 160, in memory_stats\n",
      "    stats = memory_stats_as_nested_dict(device=device)\n",
      "  File \"/common/home/at1341/.local/lib/python3.9/site-packages/torch/cuda/memory.py\", line 169, in memory_stats_as_nested_dict\n",
      "    device = _get_device_index(device, optional=True)\n",
      "  File \"/common/home/at1341/.local/lib/python3.9/site-packages/torch/cuda/_utils.py\", line 32, in _get_device_index\n",
      "    return _torch_get_device_index(device, optional, allow_cpu)\n",
      "  File \"/common/home/at1341/.local/lib/python3.9/site-packages/torch/_utils.py\", line 489, in _get_device_index\n",
      "    device_idx = _get_current_device_index()\n",
      "  File \"/common/home/at1341/.local/lib/python3.9/site-packages/torch/_utils.py\", line 448, in _get_current_device_index\n",
      "    return _get_device_attr(lambda m: m.current_device())\n",
      "  File \"/common/home/at1341/.local/lib/python3.9/site-packages/torch/_utils.py\", line 440, in _get_device_attr\n",
      "    if device_type.lower() == \"cuda\":\n",
      "AttributeError: 'NoneType' object has no attribute 'lower'\n"
     ]
    }
   ],
   "source": [
    "!python -m mdlt.train --algorithm BoDA --dataset ImbalancedColoredMNIST --output_folder_name digits_boda_folder --data_dir DATASETS --output_dir digits_boda_output_dir"
   ]
  },
  {
   "cell_type": "code",
   "execution_count": 2,
   "id": "7519c116-a6bf-4543-b5b7-3d4caf1244e9",
   "metadata": {},
   "outputs": [
    {
     "name": "stdout",
     "output_type": "stream",
     "text": [
      "Defaulting to user installation because normal site-packages is not writeable\n",
      "Collecting clip\n",
      "  Downloading clip-0.2.0.tar.gz (5.5 kB)\n",
      "Building wheels for collected packages: clip\n",
      "  Building wheel for clip (setup.py) ... \u001b[?25ldone\n",
      "\u001b[?25h  Created wheel for clip: filename=clip-0.2.0-py3-none-any.whl size=7005 sha256=dd7072b5eaeb29e85af8639de262d1588b5839e50b340a7ffcf83d2f4f4c41cd\n",
      "  Stored in directory: /common/home/at1341/.cache/pip/wheels/8f/99/44/ceb6f1b57fd1a1d7241d886a4074ffbd552937ed87ccf479d6\n",
      "Successfully built clip\n",
      "Installing collected packages: clip\n",
      "Successfully installed clip-0.2.0\n"
     ]
    }
   ],
   "source": [
    "!pip install clip"
   ]
  },
  {
   "cell_type": "code",
   "execution_count": 6,
   "id": "8b837927-bf62-4c31-8481-e74389fda941",
   "metadata": {},
   "outputs": [
    {
     "name": "stdout",
     "output_type": "stream",
     "text": [
      "/common/home/at1341/.local/lib/python3.9/site-packages/torch/cuda/__init__.py:52: UserWarning: CUDA initialization: Found no NVIDIA driver on your system. Please check that you have an NVIDIA GPU and installed a driver from http://www.nvidia.com/Download/index.aspx (Triggered internally at  /pytorch/c10/cuda/CUDAFunctions.cpp:100.)\n",
      "  return torch._C._cuda_getDeviceCount() > 0\n",
      "False\n"
     ]
    }
   ],
   "source": [
    "!python -c \"import torch; print(torch.cuda.is_available())\""
   ]
  },
  {
   "cell_type": "code",
   "execution_count": 7,
   "id": "4fa6f3cd-a489-4ef3-a829-ca60d06cbd8d",
   "metadata": {},
   "outputs": [
    {
     "name": "stdout",
     "output_type": "stream",
     "text": [
      "# conda environments:\n",
      "#\n",
      "base                     /usr/lib/anaconda3\n",
      "\n"
     ]
    }
   ],
   "source": [
    "!conda env list"
   ]
  },
  {
   "cell_type": "code",
   "execution_count": null,
   "id": "dafb61ce-de25-4dd7-b221-7de8583f35c3",
   "metadata": {},
   "outputs": [
    {
     "name": "stdout",
     "output_type": "stream",
     "text": [
      "Collecting package metadata (current_repodata.json): done\n",
      "Solving environment: done\n"
     ]
    }
   ],
   "source": []
  },
  {
   "cell_type": "code",
   "execution_count": null,
   "id": "11eb1e62-f29b-4761-9a31-c30d4ed74edf",
   "metadata": {},
   "outputs": [],
   "source": []
  }
 ],
 "metadata": {
  "kernelspec": {
   "display_name": "Python 3",
   "language": "python",
   "name": "python3"
  },
  "language_info": {
   "codemirror_mode": {
    "name": "ipython",
    "version": 3
   },
   "file_extension": ".py",
   "mimetype": "text/x-python",
   "name": "python",
   "nbconvert_exporter": "python",
   "pygments_lexer": "ipython3",
   "version": "3.9.5"
  }
 },
 "nbformat": 4,
 "nbformat_minor": 5
}
